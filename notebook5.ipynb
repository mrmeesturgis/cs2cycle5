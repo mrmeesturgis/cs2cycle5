{
 "cells": [
  {
   "cell_type": "markdown",
   "id": "d8bba665",
   "metadata": {
    "deletable": false,
    "editable": false
   },
   "source": [
    "<img src=\"https://www.sturgischarterschool.com/wp-content/uploads/2019/06/sturgisheader_logo.png\" alt=\"sturgis\" width=\"250\" align=\"right\"/>\n",
    "\n",
    "## Computer Science 'Binary Tree' notebook 5\n",
    "### Sturgis Charter Public School \n",
    "\n"
   ]
  },
  {
   "cell_type": "markdown",
   "id": "681696fb",
   "metadata": {},
   "source": [
    "Student: [your name here]\n",
    "\n",
    "Collaborators: [N/A]\n",
    "\n",
    "Notes to the teacher: [N/A]"
   ]
  },
  {
   "cell_type": "markdown",
   "id": "16bf0839",
   "metadata": {},
   "source": [
    "### Learning Objectives for notebook \n",
    "* Understand Binary Search Trees\n",
    "* Understand the various ways to traverse a binary search tree"
   ]
  },
  {
   "cell_type": "markdown",
   "id": "5e05d6b1",
   "metadata": {},
   "source": [
    "### Narrative\n",
    "\n",
    "Take a look at the following questions that are from a past IB exam. \n",
    "\n",
    "![binary tree](binarytree.png)\n",
    "\n",
    "We want to be able to answer these questions, but in order to do so we need to understand what a binary tree is and why it might be useful. The short answer is that searching for something by iterating over all possible instances is highly inefficient. Perhaps the following image of legos best illustrates this. \n",
    "\n",
    "![noob](sortcompare.jpg)\n",
    "\n",
    "Given an infinite amount of time and energy we might not care. We can just spend all afternoon looking for that one perfect lego piece, but that's not practical. We want our data to not only be easy to find, but also when we get new data, we want it to end up in the right spot. That's the general purpose of a binary search tree. It is one (of many) ways to sort ordered data so that it is quickly traversable. \n",
    "\n",
    "Now, looking at the binary tree image, you'll note that we once again have nodes. Here, however, the nodes behave a little differently. Instead of having only one link, we have two. Hence the term binary, and when you look at it, the distribution represents a root system of a tree (or if you want to look at it upside down, you can see the leaves--up to you). \n",
    "\n",
    "Now in order to find a number, we start at the root, and then compare our target number against the value in the root. If it is greater then we go one way, if it is lesser, then we go the other, and of course, if it is exactly the same value, then we stop: we have found what we were looking for, by some stroke of good luck! This is called *preorder traversal*. \n",
    "\n",
    "We could, however, traverse in several other ways. We could do *inorder traversal* or, as the question itself poses *postorder traversal*. It might be helpful to reference a [web resource](https://www.geeksforgeeks.org/tree-traversals-inorder-preorder-and-postorder/). \n",
    "\n",
    "Additionally you would do well to read the relevant chapter in the [Python textbook](python_chp28_trees.pdf). "
   ]
  },
  {
   "cell_type": "markdown",
   "id": "c03d2f4c",
   "metadata": {},
   "source": [
    "#### Building a binary tree\n",
    "\n",
    "Let's build a binary search tree. The tree should build from a list of numbers, and it should make each number linked to up to two other numbers. Note that the order you feed the numbers will have a significant impact on how the tree is created. Every time a new number is added to the tree, it will create a node that can be reached by traversal from the root. \n",
    "\n",
    "You are, of course, welcome to modify the code below, but it is fully written. Your task, below will be to write the code that traverses the nodes. The above-linked Python textbook will be very useful. It's not all that different than printing. "
   ]
  },
  {
   "cell_type": "code",
   "execution_count": 1,
   "id": "f9446145",
   "metadata": {},
   "outputs": [],
   "source": [
    "#import random\n",
    "#import graphviz\n",
    "#graphviz is how I created the image of the binary tree. You may if you like download graphviz."
   ]
  },
  {
   "cell_type": "code",
   "execution_count": 2,
   "id": "86a915db",
   "metadata": {},
   "outputs": [],
   "source": [
    "class Tree:\n",
    "    def __init__(self, cargo, left = None, right = None):\n",
    "        self.cargo = cargo\n",
    "        self.left = left\n",
    "        self.right = right\n",
    "        \n",
    "    def __str__(self):\n",
    "        node = str(self.cargo)\n",
    "        return node"
   ]
  },
  {
   "cell_type": "code",
   "execution_count": 3,
   "id": "af301667",
   "metadata": {},
   "outputs": [],
   "source": [
    "numbers = [8, 6, 16, 10, 17, 7, 15, 18, 3, 0, 5, 11, 14, 19, 9, 12, 2, 4, 13, 1]\n",
    "\n",
    "T1 = Tree(numbers[0])\n",
    "\n",
    "def treeassign(node, target): #First call will be the root\n",
    "    if target > node.cargo:\n",
    "        if node.right == None:\n",
    "            node.right = Tree(target)\n",
    "        else:\n",
    "            treeassign(node.right, target)\n",
    "    if target < node.cargo:\n",
    "        if node.left == None:\n",
    "            node.left = Tree(target)\n",
    "        else:\n",
    "            treeassign(node.left, target)\n",
    "    return None\n",
    "\n",
    "\n",
    "# This is where we populate our binary search tree\n",
    "for number in numbers:\n",
    "    treeassign(T1, number)\n",
    "        "
   ]
  },
  {
   "cell_type": "code",
   "execution_count": 26,
   "id": "fbd7c62e",
   "metadata": {},
   "outputs": [
    {
     "data": {
      "text/plain": [
       "\"dot = graphviz.Digraph(comment='Binary Tree')\\ndef dot_tree(tree, dot, previous):\\n    if tree is None: return\\n    \\n    dot.node(str(tree.cargo), str(tree.cargo))\\n    if previous is not None:\\n        dot.edge(str(previous.cargo), str(tree.cargo))\\n    dot_tree(tree.left, dot, tree)\\n    dot_tree(tree.right, dot, tree)\\n\\ndot_tree(T1, dot, None)    \\n\\ndot\""
      ]
     },
     "execution_count": 26,
     "metadata": {},
     "output_type": "execute_result"
    }
   ],
   "source": [
    "#This is the code that builds the graphviz images based on our tree\n",
    "'''dot = graphviz.Digraph(comment='Binary Tree')\n",
    "def dot_tree(tree, dot, previous):\n",
    "    if tree is None: return\n",
    "    \n",
    "    dot.node(str(tree.cargo), str(tree.cargo))\n",
    "    if previous is not None:\n",
    "        dot.edge(str(previous.cargo), str(tree.cargo))\n",
    "    dot_tree(tree.left, dot, tree)\n",
    "    dot_tree(tree.right, dot, tree)\n",
    "\n",
    "dot_tree(T1, dot, None)    \n",
    "\n",
    "dot'''"
   ]
  },
  {
   "cell_type": "markdown",
   "id": "b2a98b7a",
   "metadata": {},
   "source": [
    "![gv_bs](graphviz_bubblesort.png)"
   ]
  },
  {
   "cell_type": "markdown",
   "id": "790ece52",
   "metadata": {},
   "source": [
    "#### Question 1: Preorder traversal\n",
    "\n",
    "So now that we have a binary search tree there are three ways to traverse it. We'll start with pretraversal. Write code that creates a list which is the order in which the nodes should be explored. "
   ]
  },
  {
   "cell_type": "code",
   "execution_count": 25,
   "id": "96680db5",
   "metadata": {},
   "outputs": [],
   "source": [
    "def pretraverse_tree(tree, traverse):\n",
    "    raise NotImplementedError(\"Erase this line and write your code.\")"
   ]
  },
  {
   "cell_type": "code",
   "execution_count": 9,
   "id": "2c99c4ae",
   "metadata": {
    "deletable": false,
    "editable": false
   },
   "outputs": [],
   "source": [
    "assert pretraversal == [8, 6, 3, 0, 2, 1, 5, 4, 7, 16, 10, 9, 15, 11, 14, 12, 13, 17, 18, 19]"
   ]
  },
  {
   "cell_type": "markdown",
   "id": "f3d8c6c5",
   "metadata": {},
   "source": [
    "#### Question 2: Postorder traversal\n",
    "\n",
    "So you just accomplished pre-traversal. Now try post-traversal. NOTE! You are still using the same tree that was originally created. Also Note! The reading that is embedded in this notebook is VERY, VERY useful. You simply need to transform it from printing, to appending to a list. "
   ]
  },
  {
   "cell_type": "code",
   "execution_count": 10,
   "id": "b619e779",
   "metadata": {},
   "outputs": [],
   "source": [
    "def posttraverse_tree(tree, traverse):\n",
    "    raise NotImplementedError(\"Erase this line and write your code.\")"
   ]
  },
  {
   "cell_type": "code",
   "execution_count": 12,
   "id": "81cfc7ac",
   "metadata": {
    "deletable": false,
    "editable": false
   },
   "outputs": [],
   "source": [
    "assert posttraversal == [1, 2, 0, 4, 5, 3, 7, 6, 9, 13, 12, 14, 11, 15, 10, 19, 18, 17, 16, 8]"
   ]
  },
  {
   "cell_type": "markdown",
   "id": "b03f05a7",
   "metadata": {},
   "source": [
    "#### Question 3 in(order) traversal\n",
    "\n",
    "And finally let's do the inorder traversal. This is where we see everything from least to greatest. Again the textbook is VERY useful. "
   ]
  },
  {
   "cell_type": "code",
   "execution_count": 15,
   "id": "dc68f0f6",
   "metadata": {},
   "outputs": [],
   "source": [
    "def intraverse_tree(tree, answer):\n",
    "    raise NotImplementedError(\"Erase this line and write your code.\")"
   ]
  },
  {
   "cell_type": "code",
   "execution_count": 16,
   "id": "e3b6a9f8",
   "metadata": {
    "deletable": false,
    "editable": false
   },
   "outputs": [],
   "source": [
    "assert intraversal == [0, 1, 2, 3, 4, 5, 6, 7, 8, 9, 10, 11, 12, 13, 14, 15, 16, 17, 18, 19]"
   ]
  },
  {
   "cell_type": "markdown",
   "id": "ef40a02b",
   "metadata": {},
   "source": [
    "#### Question 4: IB exam questions\n",
    "*SL Optional*\n",
    "\n",
    "Answer the following two IB exam questions: \n",
    "\n",
    "![binary tree](binarytree.png)\n",
    "\n",
    "hint: if you wanted you could task your code to help you--just remember you wouldn't have that on the actual exam."
   ]
  },
  {
   "cell_type": "code",
   "execution_count": null,
   "id": "9dbf073e",
   "metadata": {},
   "outputs": [],
   "source": []
  }
 ],
 "metadata": {
  "kernelspec": {
   "display_name": "Python 3 (ipykernel)",
   "language": "python",
   "name": "python3"
  },
  "language_info": {
   "codemirror_mode": {
    "name": "ipython",
    "version": 3
   },
   "file_extension": ".py",
   "mimetype": "text/x-python",
   "name": "python",
   "nbconvert_exporter": "python",
   "pygments_lexer": "ipython3",
   "version": "3.9.7"
  }
 },
 "nbformat": 4,
 "nbformat_minor": 5
}
